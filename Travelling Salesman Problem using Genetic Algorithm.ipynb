{
 "cells": [
  {
   "cell_type": "markdown",
   "metadata": {},
   "source": [
    "## Reasoning & Approach to solve TSP using GA :-\n",
    "\n",
    "GA is widley used for search & optimization. So, the solution will not stuck at local minima/maxima. However, in Travelling Salesman Problem, there are n! paths for n cities. \n",
    "\n",
    "Since, Every researcher gave their own version of GA with state-of-the-art result, I used basic Genetic Algorithm concept to solve this problem as a demo. So, the solution will not stuck into the local minima. \n",
    "\n",
    "### My Approach is as follow :-\n",
    "\n",
    "1. Create a list of cities (I took only 5 cities, but its configrable using num_city variable. My cities are ['0','1','2','3','4'])\n",
    "2. Create the location (Generated random loc (lat, long) every time between 1 to 100)\n",
    "3. Define a Objective Function (obj) (It iinternally call the point_distance function) to produce the distance of cities in given order.\n",
    "4. Define the population\n",
    "5. Checking the relative fitness of all paths of population against the objective function\n",
    "6. Defining the Selection Method for Mating Pool/Area (To keep it simple, i rejected all the paths whose relative fitness score is greater than median relative fitness score and rest will go for Mating)\n",
    "7. After Step-6, I defined next_gen function which do the following things :-\n",
    "\n",
    "    7.a. :- Since it's a minimization problem, i paased the element directly to the next generation whose relative fitness is minimum among all and rest will go for cross over phase\n",
    "    \n",
    "    7.b. :- To do the pair wise cross over, first i need to know how many paths are available. For Simplicity, I took even number of paths. e.g :- If 37 paths are available, then in pair wise cross over, i took 36 paths into the account.\n",
    "    \n",
    "    7.c. :- Generate the start and end cross over point \n",
    "    \n",
    "    7.d. :- Swap the i & i+1 path between the start and end cross over point \n",
    "    \n",
    "    7.e. :- Generate the new population \n",
    "\n",
    "8. Loop these steps, to produce the optimal path\n",
    "\n",
    "#### NOTE :- Result will be the random due to randomly generated location in each run. "
   ]
  },
  {
   "cell_type": "code",
   "execution_count": 1,
   "metadata": {},
   "outputs": [],
   "source": [
    "import math\n",
    "import random\n",
    "import numpy as np"
   ]
  },
  {
   "cell_type": "code",
   "execution_count": 2,
   "metadata": {},
   "outputs": [],
   "source": [
    "#number of cities\n",
    "num_city=5"
   ]
  },
  {
   "cell_type": "code",
   "execution_count": 3,
   "metadata": {},
   "outputs": [],
   "source": [
    "#list of cities\n",
    "cities=[str(i) for i in range(0,num_city)]\n",
    "cities"
   ]
  },
  {
   "cell_type": "code",
   "execution_count": 4,
   "metadata": {},
   "outputs": [
    {
     "data": {
      "text/plain": [
       "['0', '1', '2', '3', '4']"
      ]
     },
     "execution_count": 4,
     "metadata": {},
     "output_type": "execute_result"
    }
   ],
   "source": [
    "temp=cities.copy()\n",
    "cities"
   ]
  },
  {
   "cell_type": "code",
   "execution_count": 5,
   "metadata": {},
   "outputs": [
    {
     "data": {
      "text/plain": [
       "[(87, 75), (40, 27), (23, 77), (2, 99), (91, 70)]"
      ]
     },
     "execution_count": 5,
     "metadata": {},
     "output_type": "execute_result"
    }
   ],
   "source": [
    "#generating random co-ordinate\n",
    "#for simplicity,i just used integer between 1 to 100\n",
    "loc=[(np.random.randint(1,100),np.random.randint(1,100)) for i in range(1,num_city+1)]\n",
    "loc"
   ]
  },
  {
   "cell_type": "code",
   "execution_count": 6,
   "metadata": {},
   "outputs": [],
   "source": [
    "def point_distance(d):\n",
    "    distance=0\n",
    "    points=d.copy()\n",
    "    for i in range(0,len(points)-1):\n",
    "        p1_ix,p2_ix=cities.index(str(points[i])),cities.index(str(points[i+1]))\n",
    "        loc1,loc2=loc[p1_ix],loc[p2_ix]\n",
    "        distance+=math.sqrt( ((loc1[0]-loc2[0])**2)+((loc1[1]-loc2[1])**2) )\n",
    "        return distance"
   ]
  },
  {
   "cell_type": "code",
   "execution_count": 7,
   "metadata": {},
   "outputs": [],
   "source": [
    "def obj(points:list):\n",
    "    d= points.copy()\n",
    "    return point_distance(d)"
   ]
  },
  {
   "cell_type": "code",
   "execution_count": 8,
   "metadata": {},
   "outputs": [],
   "source": [
    "def population():\n",
    "    #finding all possible route of cities \n",
    "    all_routes=[]\n",
    "    for i in range(1,math.factorial(num_city)*5):\n",
    "        random.shuffle(temp)\n",
    "        if temp not in all_routes:\n",
    "            all_routes.append(list(temp))\n",
    "    all_routes.sort()\n",
    "    return all_routes"
   ]
  },
  {
   "cell_type": "code",
   "execution_count": 9,
   "metadata": {},
   "outputs": [],
   "source": [
    "def rel_fitness(distance):\n",
    "    fitness=[i/sum(distance) for i in distance]\n",
    "    return fitness"
   ]
  },
  {
   "cell_type": "code",
   "execution_count": 10,
   "metadata": {},
   "outputs": [],
   "source": [
    "#selection for mating process :- to minimise the distance reject those paths whose distance>median and rest will go for next gen\n",
    "\n",
    "def mating(rel_fitness):\n",
    "    #print(len(rel_fitness))\n",
    "    mating=[]\n",
    "    for i in range(0,len(rel_fitness)):\n",
    "        if rel_fitness[i]<=np.median(rel_fitness):mating.append(points[i])\n",
    "    return mating\n"
   ]
  },
  {
   "cell_type": "code",
   "execution_count": 11,
   "metadata": {},
   "outputs": [],
   "source": [
    "#path having lowest distance or relative fitness will directly move into next gen & for rest will go for cross over\n",
    "def next_gen(nextgen):\n",
    "    direct_move,cross=[],[]\n",
    "    for i in range(0,len(nextgen)-1):\n",
    "        if(nextgen[i]==min(nextgen)):direct_move.append(nextgen[i])\n",
    "        else:cross.append(nextgen[i])\n",
    "    \n",
    "    #going to use two point crossover \n",
    "    #check for number of crossover\n",
    "    if len(nextgen)%2==0:num_cross=np.floor(len(cross)/2)\n",
    "    else:cross.pop();num_cross=np.floor(len(cross)/2)\n",
    "    \n",
    "    \n",
    "    #crossover point generation\n",
    "    cross_point_start,cross_point_end=[],[]\n",
    "    for i in range(0,len(cross)):\n",
    "        cross_point_start.append(random.randint(1,num_city))\n",
    "        cross_point_end.append(random.randint(1,num_city))\n",
    "    \n",
    "    #swapping the elements\n",
    "    for i in range(0,len(cross)-1):\n",
    "        temp=cross[i][cross_point_start[i]:cross_point_start[i]]\n",
    "        cross[i][cross_point_start[i]:cross_point_start[i]]=cross[i+1][cross_point_start[i]:cross_point_start[i]]\n",
    "        cross[i+1][cross_point_start[i]:cross_point_start[i]]=temp\n",
    "        \n",
    "    #Final list of path of new gen\n",
    "    new_gen_path=direct_move+cross\n",
    "    \n",
    "    return new_gen_path"
   ]
  },
  {
   "cell_type": "code",
   "execution_count": 12,
   "metadata": {},
   "outputs": [],
   "source": [
    "#initialising population\n",
    "points=list(population())\n"
   ]
  },
  {
   "cell_type": "code",
   "execution_count": 13,
   "metadata": {},
   "outputs": [
    {
     "name": "stdout",
     "output_type": "stream",
     "text": [
      "[['0', '4', '1', '2', '3']]\n"
     ]
    }
   ],
   "source": [
    "while len(points)>0:\n",
    "    if len(points)==1:\n",
    "        print(points)\n",
    "        break\n",
    "    else:\n",
    "        distance=list(obj(i) for i in points)\n",
    "        fitness=rel_fitness(distance)\n",
    "        nextgen=mating(fitness)\n",
    "        newgen=next_gen(nextgen)\n",
    "        points=newgen\n",
    "    \n",
    "    \n",
    "    \n",
    "    "
   ]
  },
  {
   "cell_type": "code",
   "execution_count": 14,
   "metadata": {},
   "outputs": [
    {
     "data": {
      "text/plain": [
       "[['0', '4', '1', '2', '3']]"
      ]
     },
     "execution_count": 14,
     "metadata": {},
     "output_type": "execute_result"
    }
   ],
   "source": [
    "points"
   ]
  },
  {
   "cell_type": "code",
   "execution_count": 15,
   "metadata": {},
   "outputs": [
    {
     "name": "stdout",
     "output_type": "stream",
     "text": [
      "Minimum distance of TSP in this run is  6.4031242374328485 and path is  ['0', '4', '1', '2', '3']\n"
     ]
    }
   ],
   "source": [
    "print('Minimum distance of TSP in this run is ', obj(points[0]) ,'and path is ', points[0])"
   ]
  },
  {
   "cell_type": "code",
   "execution_count": null,
   "metadata": {},
   "outputs": [],
   "source": []
  }
 ],
 "metadata": {
  "kernelspec": {
   "display_name": "Python 3",
   "language": "python",
   "name": "python3"
  },
  "language_info": {
   "codemirror_mode": {
    "name": "ipython",
    "version": 3
   },
   "file_extension": ".py",
   "mimetype": "text/x-python",
   "name": "python",
   "nbconvert_exporter": "python",
   "pygments_lexer": "ipython3",
   "version": "3.6.8"
  }
 },
 "nbformat": 4,
 "nbformat_minor": 2
}
